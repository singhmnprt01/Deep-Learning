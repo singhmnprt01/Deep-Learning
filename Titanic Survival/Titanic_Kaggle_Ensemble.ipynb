{
 "cells": [
  {
   "cell_type": "code",
   "execution_count": null,
   "metadata": {},
   "outputs": [],
   "source": [
    "###### Titanic Kaggle ######  || ##### Top 16 % ##### || ##### Ensemble Learning #####"
   ]
  },
  {
   "cell_type": "code",
   "execution_count": 1,
   "metadata": {},
   "outputs": [
    {
     "name": "stderr",
     "output_type": "stream",
     "text": [
      "/Users/manpreetsi/opt/anaconda3/envs/spyder/lib/python3.8/site-packages/lightgbm/__init__.py:42: UserWarning: Starting from version 2.2.1, the library file in distribution wheels for macOS is built by the Apple Clang (Xcode_8.3.3) compiler.\n",
      "This means that in case of installing LightGBM from PyPI via the ``pip install lightgbm`` command, you don't need to install the gcc compiler anymore.\n",
      "Instead of that, you need to install the OpenMP library, which is required for running LightGBM on the system with the Apple Clang compiler.\n",
      "You can install the OpenMP library by the following command: ``brew install libomp``.\n",
      "  warnings.warn(\"Starting from version 2.2.1, the library file in distribution wheels for macOS \"\n"
     ]
    }
   ],
   "source": [
    "import pandas as pd\n",
    "import numpy as np\n",
    "from sklearn.preprocessing import OneHotEncoder\n",
    "from sklearn.model_selection import train_test_split\n",
    "from sklearn.ensemble import RandomForestClassifier, GradientBoostingClassifier\n",
    "import lightgbm as lgb\n",
    "from sklearn.metrics import roc_auc_score, accuracy_score\n",
    "from datetime import datetime\n",
    "from xgboost import XGBClassifier\n",
    "from sklearn.model_selection import GridSearchCV, RandomizedSearchCV\n",
    "from sklearn.model_selection import cross_val_score  \n",
    "import numpy as np\n",
    "from matplotlib import pyplot as plt\n",
    "import seaborn as sns"
   ]
  },
  {
   "cell_type": "code",
   "execution_count": 2,
   "metadata": {},
   "outputs": [],
   "source": [
    "data_train = pd.read_csv(\"train.csv\")\n",
    "data_test = pd.read_csv(\"test.csv\")"
   ]
  },
  {
   "cell_type": "code",
   "execution_count": 3,
   "metadata": {},
   "outputs": [
    {
     "name": "stdout",
     "output_type": "stream",
     "text": [
      "['PassengerId', 'Pclass', 'Name', 'Sex', 'Age', 'SibSp', 'Parch', 'Ticket', 'Fare', 'Cabin', 'Embarked']\n"
     ]
    }
   ],
   "source": [
    "feature_set = pd.DataFrame(data_train.columns)[data_train.columns != 'Survived'].values.ravel().tolist()\n",
    "print(feature_set)"
   ]
  },
  {
   "cell_type": "code",
   "execution_count": 4,
   "metadata": {},
   "outputs": [],
   "source": [
    "data_test['Survived'] = 0"
   ]
  },
  {
   "cell_type": "code",
   "execution_count": 5,
   "metadata": {},
   "outputs": [],
   "source": [
    "data_train['target_category'] = 1\n",
    "data_test['target_category'] = 2"
   ]
  },
  {
   "cell_type": "code",
   "execution_count": 6,
   "metadata": {},
   "outputs": [
    {
     "data": {
      "text/html": [
       "<div>\n",
       "<style scoped>\n",
       "    .dataframe tbody tr th:only-of-type {\n",
       "        vertical-align: middle;\n",
       "    }\n",
       "\n",
       "    .dataframe tbody tr th {\n",
       "        vertical-align: top;\n",
       "    }\n",
       "\n",
       "    .dataframe thead th {\n",
       "        text-align: right;\n",
       "    }\n",
       "</style>\n",
       "<table border=\"1\" class=\"dataframe\">\n",
       "  <thead>\n",
       "    <tr style=\"text-align: right;\">\n",
       "      <th></th>\n",
       "      <th>PassengerId</th>\n",
       "      <th>Survived</th>\n",
       "      <th>Pclass</th>\n",
       "      <th>Name</th>\n",
       "      <th>Sex</th>\n",
       "      <th>Age</th>\n",
       "      <th>SibSp</th>\n",
       "      <th>Parch</th>\n",
       "      <th>Ticket</th>\n",
       "      <th>Fare</th>\n",
       "      <th>Cabin</th>\n",
       "      <th>Embarked</th>\n",
       "      <th>target_category</th>\n",
       "    </tr>\n",
       "  </thead>\n",
       "  <tbody>\n",
       "    <tr>\n",
       "      <th>0</th>\n",
       "      <td>1</td>\n",
       "      <td>0</td>\n",
       "      <td>3</td>\n",
       "      <td>Braund, Mr. Owen Harris</td>\n",
       "      <td>male</td>\n",
       "      <td>22.0</td>\n",
       "      <td>1</td>\n",
       "      <td>0</td>\n",
       "      <td>A/5 21171</td>\n",
       "      <td>7.2500</td>\n",
       "      <td>NaN</td>\n",
       "      <td>S</td>\n",
       "      <td>1</td>\n",
       "    </tr>\n",
       "    <tr>\n",
       "      <th>1</th>\n",
       "      <td>2</td>\n",
       "      <td>1</td>\n",
       "      <td>1</td>\n",
       "      <td>Cumings, Mrs. John Bradley (Florence Briggs Th...</td>\n",
       "      <td>female</td>\n",
       "      <td>38.0</td>\n",
       "      <td>1</td>\n",
       "      <td>0</td>\n",
       "      <td>PC 17599</td>\n",
       "      <td>71.2833</td>\n",
       "      <td>C85</td>\n",
       "      <td>C</td>\n",
       "      <td>1</td>\n",
       "    </tr>\n",
       "    <tr>\n",
       "      <th>2</th>\n",
       "      <td>3</td>\n",
       "      <td>1</td>\n",
       "      <td>3</td>\n",
       "      <td>Heikkinen, Miss. Laina</td>\n",
       "      <td>female</td>\n",
       "      <td>26.0</td>\n",
       "      <td>0</td>\n",
       "      <td>0</td>\n",
       "      <td>STON/O2. 3101282</td>\n",
       "      <td>7.9250</td>\n",
       "      <td>NaN</td>\n",
       "      <td>S</td>\n",
       "      <td>1</td>\n",
       "    </tr>\n",
       "    <tr>\n",
       "      <th>3</th>\n",
       "      <td>4</td>\n",
       "      <td>1</td>\n",
       "      <td>1</td>\n",
       "      <td>Futrelle, Mrs. Jacques Heath (Lily May Peel)</td>\n",
       "      <td>female</td>\n",
       "      <td>35.0</td>\n",
       "      <td>1</td>\n",
       "      <td>0</td>\n",
       "      <td>113803</td>\n",
       "      <td>53.1000</td>\n",
       "      <td>C123</td>\n",
       "      <td>S</td>\n",
       "      <td>1</td>\n",
       "    </tr>\n",
       "    <tr>\n",
       "      <th>4</th>\n",
       "      <td>5</td>\n",
       "      <td>0</td>\n",
       "      <td>3</td>\n",
       "      <td>Allen, Mr. William Henry</td>\n",
       "      <td>male</td>\n",
       "      <td>35.0</td>\n",
       "      <td>0</td>\n",
       "      <td>0</td>\n",
       "      <td>373450</td>\n",
       "      <td>8.0500</td>\n",
       "      <td>NaN</td>\n",
       "      <td>S</td>\n",
       "      <td>1</td>\n",
       "    </tr>\n",
       "  </tbody>\n",
       "</table>\n",
       "</div>"
      ],
      "text/plain": [
       "   PassengerId  Survived  Pclass  \\\n",
       "0            1         0       3   \n",
       "1            2         1       1   \n",
       "2            3         1       3   \n",
       "3            4         1       1   \n",
       "4            5         0       3   \n",
       "\n",
       "                                                Name     Sex   Age  SibSp  \\\n",
       "0                            Braund, Mr. Owen Harris    male  22.0      1   \n",
       "1  Cumings, Mrs. John Bradley (Florence Briggs Th...  female  38.0      1   \n",
       "2                             Heikkinen, Miss. Laina  female  26.0      0   \n",
       "3       Futrelle, Mrs. Jacques Heath (Lily May Peel)  female  35.0      1   \n",
       "4                           Allen, Mr. William Henry    male  35.0      0   \n",
       "\n",
       "   Parch            Ticket     Fare Cabin Embarked  target_category  \n",
       "0      0         A/5 21171   7.2500   NaN        S                1  \n",
       "1      0          PC 17599  71.2833   C85        C                1  \n",
       "2      0  STON/O2. 3101282   7.9250   NaN        S                1  \n",
       "3      0            113803  53.1000  C123        S                1  \n",
       "4      0            373450   8.0500   NaN        S                1  "
      ]
     },
     "execution_count": 6,
     "metadata": {},
     "output_type": "execute_result"
    }
   ],
   "source": [
    "data = pd.concat([data_train,data_test], axis=0)\n",
    "data.index = range(len(data))\n",
    "data.head()"
   ]
  },
  {
   "cell_type": "code",
   "execution_count": 7,
   "metadata": {},
   "outputs": [
    {
     "data": {
      "text/plain": [
       "['PassengerId',\n",
       " 'Survived',\n",
       " 'Pclass',\n",
       " 'Name',\n",
       " 'Sex',\n",
       " 'Age',\n",
       " 'SibSp',\n",
       " 'Parch',\n",
       " 'Ticket',\n",
       " 'Fare',\n",
       " 'Cabin',\n",
       " 'Embarked',\n",
       " 'target_category']"
      ]
     },
     "execution_count": 7,
     "metadata": {},
     "output_type": "execute_result"
    }
   ],
   "source": [
    "list(data_train.columns)"
   ]
  },
  {
   "cell_type": "code",
   "execution_count": 8,
   "metadata": {},
   "outputs": [
    {
     "data": {
      "text/plain": [
       "' EXPLORE THE DATA '"
      ]
     },
     "execution_count": 8,
     "metadata": {},
     "output_type": "execute_result"
    }
   ],
   "source": [
    "\"\"\" EXPLORE THE DATA \"\"\""
   ]
  },
  {
   "cell_type": "code",
   "execution_count": 9,
   "metadata": {},
   "outputs": [
    {
     "data": {
      "text/plain": [
       "'More percent of females have survived'"
      ]
     },
     "execution_count": 9,
     "metadata": {},
     "output_type": "execute_result"
    }
   ],
   "source": [
    "## Survival vs Gender ##\n",
    "\"\"\"More percent of females have survived\"\"\""
   ]
  },
  {
   "cell_type": "code",
   "execution_count": 10,
   "metadata": {},
   "outputs": [],
   "source": [
    "data_train['died'] = 1- data_train['Survived']"
   ]
  },
  {
   "cell_type": "code",
   "execution_count": 11,
   "metadata": {},
   "outputs": [
    {
     "data": {
      "text/plain": [
       "male      577\n",
       "female    314\n",
       "Name: Sex, dtype: int64"
      ]
     },
     "execution_count": 11,
     "metadata": {},
     "output_type": "execute_result"
    }
   ],
   "source": [
    "data_train['Sex'].value_counts()"
   ]
  },
  {
   "cell_type": "code",
   "execution_count": 12,
   "metadata": {},
   "outputs": [
    {
     "data": {
      "text/html": [
       "<div>\n",
       "<style scoped>\n",
       "    .dataframe tbody tr th:only-of-type {\n",
       "        vertical-align: middle;\n",
       "    }\n",
       "\n",
       "    .dataframe tbody tr th {\n",
       "        vertical-align: top;\n",
       "    }\n",
       "\n",
       "    .dataframe thead th {\n",
       "        text-align: right;\n",
       "    }\n",
       "</style>\n",
       "<table border=\"1\" class=\"dataframe\">\n",
       "  <thead>\n",
       "    <tr style=\"text-align: right;\">\n",
       "      <th></th>\n",
       "      <th>Survived</th>\n",
       "      <th>died</th>\n",
       "    </tr>\n",
       "    <tr>\n",
       "      <th>Sex</th>\n",
       "      <th></th>\n",
       "      <th></th>\n",
       "    </tr>\n",
       "  </thead>\n",
       "  <tbody>\n",
       "    <tr>\n",
       "      <th>female</th>\n",
       "      <td>233</td>\n",
       "      <td>81</td>\n",
       "    </tr>\n",
       "    <tr>\n",
       "      <th>male</th>\n",
       "      <td>109</td>\n",
       "      <td>468</td>\n",
       "    </tr>\n",
       "  </tbody>\n",
       "</table>\n",
       "</div>"
      ],
      "text/plain": [
       "        Survived  died\n",
       "Sex                   \n",
       "female       233    81\n",
       "male         109   468"
      ]
     },
     "execution_count": 12,
     "metadata": {},
     "output_type": "execute_result"
    }
   ],
   "source": [
    "data_train.groupby('Sex')[['Survived','died']].agg('sum')"
   ]
  },
  {
   "cell_type": "code",
   "execution_count": 13,
   "metadata": {},
   "outputs": [
    {
     "data": {
      "image/png": "[encoded data removed]",
      "text/plain": [
       "<Figure size 1800x504 with 1 Axes>"
      ]
     },
     "metadata": {
      "needs_background": "light"
     },
     "output_type": "display_data"
    }
   ],
   "source": [
    "data_train.groupby('Sex').agg('sum')[['died','Survived']].plot(kind='bar', figsize=(25, 7),stacked=True);"
   ]
  },
  {
   "cell_type": "code",
   "execution_count": 14,
   "metadata": {},
   "outputs": [
    {
     "data": {
      "text/plain": [
       "'Young people have more survival rate, especially in males. The relaiton is not strong as such'"
      ]
     },
     "execution_count": 14,
     "metadata": {},
     "output_type": "execute_result"
    }
   ],
   "source": [
    "## Survival vs Age ##\n",
    "\"\"\"Young people have more survival rate, especially in males. The relaiton is not strong as such\"\"\""
   ]
  },
  {
   "cell_type": "code",
   "execution_count": 15,
   "metadata": {},
   "outputs": [
    {
     "data": {
      "image/png": "[encoded data removed]",
      "text/plain": [
       "<Figure size 1800x504 with 1 Axes>"
      ]
     },
     "metadata": {
      "needs_background": "light"
     },
     "output_type": "display_data"
    }
   ],
   "source": [
    "fig = plt.figure(figsize=(25, 7))\n",
    "sns.violinplot(x='Sex', y='Age', \n",
    "               hue='Survived', data=data, \n",
    "               split=True,\n",
    "               palette={0: \"r\", 1: \"g\"}\n",
    "              );"
   ]
  },
  {
   "cell_type": "code",
   "execution_count": 16,
   "metadata": {},
   "outputs": [
    {
     "data": {
      "image/png": "[encoded data removed]",
      "text/plain": [
       "<Figure size 360x360 with 1 Axes>"
      ]
     },
     "metadata": {
      "needs_background": "light"
     },
     "output_type": "display_data"
    }
   ],
   "source": [
    "sns.catplot(x=\"Survived\", y=\"Age\", data=data);"
   ]
  },
  {
   "cell_type": "code",
   "execution_count": 17,
   "metadata": {},
   "outputs": [
    {
     "data": {
      "image/png": "[encoded data removed]",
      "text/plain": [
       "<Figure size 430.5x360 with 1 Axes>"
      ]
     },
     "metadata": {
      "needs_background": "light"
     },
     "output_type": "display_data"
    }
   ],
   "source": [
    "sns.catplot(x=\"Survived\", y=\"Age\", hue=\"Sex\",\n",
    "            kind=\"violin\", split=True, data=data);"
   ]
  },
  {
   "cell_type": "code",
   "execution_count": 18,
   "metadata": {},
   "outputs": [
    {
     "data": {
      "text/plain": [
       "' Higher Fare Passengers have higher survival rate/less death rate'"
      ]
     },
     "execution_count": 18,
     "metadata": {},
     "output_type": "execute_result"
    }
   ],
   "source": [
    "## Survival vs Fare ##\n",
    "\"\"\" Higher Fare Passengers have higher survival rate/less death rate\"\"\""
   ]
  },
  {
   "cell_type": "code",
   "execution_count": 19,
   "metadata": {},
   "outputs": [
    {
     "data": {
      "image/png": "[encoded data removed]",
      "text/plain": [
       "<Figure size 1800x504 with 1 Axes>"
      ]
     },
     "metadata": {
      "needs_background": "light"
     },
     "output_type": "display_data"
    }
   ],
   "source": [
    "figure = plt.figure(figsize=(25, 7))\n",
    "plt.hist([data[data['Survived'] == 1]['Fare'], data[data['Survived'] == 0]['Fare']], \n",
    "         stacked=True, color = ['g','r'],\n",
    "         bins = 50, label = ['Survived','Died'])\n",
    "plt.xlabel('Fare')\n",
    "plt.ylabel('Number of Passengers')\n",
    "plt.legend();"
   ]
  },
  {
   "cell_type": "code",
   "execution_count": 20,
   "metadata": {},
   "outputs": [
    {
     "data": {
      "text/plain": [
       "' FEATURE ENGINEERING'"
      ]
     },
     "execution_count": 20,
     "metadata": {},
     "output_type": "execute_result"
    }
   ],
   "source": [
    "\"\"\" FEATURE ENGINEERING\"\"\""
   ]
  },
  {
   "cell_type": "code",
   "execution_count": 21,
   "metadata": {},
   "outputs": [
    {
     "name": "stdout",
     "output_type": "stream",
     "text": [
      "<class 'pandas.core.frame.DataFrame'>\n",
      "Int64Index: 891 entries, 0 to 890\n",
      "Data columns (total 13 columns):\n",
      " #   Column           Non-Null Count  Dtype  \n",
      "---  ------           --------------  -----  \n",
      " 0   PassengerId      891 non-null    int64  \n",
      " 1   Survived         891 non-null    int64  \n",
      " 2   Pclass           891 non-null    int64  \n",
      " 3   Name             891 non-null    object \n",
      " 4   Sex              891 non-null    object \n",
      " 5   Age              714 non-null    float64\n",
      " 6   SibSp            891 non-null    int64  \n",
      " 7   Parch            891 non-null    int64  \n",
      " 8   Ticket           891 non-null    object \n",
      " 9   Fare             891 non-null    float64\n",
      " 10  Cabin            204 non-null    object \n",
      " 11  Embarked         889 non-null    object \n",
      " 12  target_category  891 non-null    int64  \n",
      "dtypes: float64(2), int64(6), object(5)\n",
      "memory usage: 97.5+ KB\n"
     ]
    }
   ],
   "source": [
    "data[data.target_category==1].info()"
   ]
  },
  {
   "cell_type": "code",
   "execution_count": 22,
   "metadata": {},
   "outputs": [
    {
     "name": "stdout",
     "output_type": "stream",
     "text": [
      "<class 'pandas.core.frame.DataFrame'>\n",
      "Int64Index: 418 entries, 891 to 1308\n",
      "Data columns (total 13 columns):\n",
      " #   Column           Non-Null Count  Dtype  \n",
      "---  ------           --------------  -----  \n",
      " 0   PassengerId      418 non-null    int64  \n",
      " 1   Survived         418 non-null    int64  \n",
      " 2   Pclass           418 non-null    int64  \n",
      " 3   Name             418 non-null    object \n",
      " 4   Sex              418 non-null    object \n",
      " 5   Age              332 non-null    float64\n",
      " 6   SibSp            418 non-null    int64  \n",
      " 7   Parch            418 non-null    int64  \n",
      " 8   Ticket           418 non-null    object \n",
      " 9   Fare             417 non-null    float64\n",
      " 10  Cabin            91 non-null     object \n",
      " 11  Embarked         418 non-null    object \n",
      " 12  target_category  418 non-null    int64  \n",
      "dtypes: float64(2), int64(6), object(5)\n",
      "memory usage: 45.7+ KB\n"
     ]
    }
   ],
   "source": [
    "data[data.target_category==2].info()"
   ]
  },
  {
   "cell_type": "code",
   "execution_count": 23,
   "metadata": {},
   "outputs": [
    {
     "data": {
      "text/plain": [
       "3    709\n",
       "1    323\n",
       "2    277\n",
       "Name: Pclass, dtype: int64"
      ]
     },
     "execution_count": 23,
     "metadata": {},
     "output_type": "execute_result"
    }
   ],
   "source": [
    "## Pclass :-\n",
    "data['Pclass'].value_counts()"
   ]
  },
  {
   "cell_type": "code",
   "execution_count": 24,
   "metadata": {},
   "outputs": [],
   "source": [
    "dummies = pd.get_dummies(data['Pclass'],prefix='Pclass')\n",
    "dummies = dummies.astype('category',copy=False)\n",
    "data = pd.concat([data,dummies],axis=1)\n",
    "data.drop(['Pclass'],axis=1,inplace=True)"
   ]
  },
  {
   "cell_type": "code",
   "execution_count": 25,
   "metadata": {},
   "outputs": [
    {
     "data": {
      "text/plain": [
       "male      843\n",
       "female    466\n",
       "Name: Sex, dtype: int64"
      ]
     },
     "execution_count": 25,
     "metadata": {},
     "output_type": "execute_result"
    }
   ],
   "source": [
    "## Sex\n",
    "data['Sex'].value_counts()"
   ]
  },
  {
   "cell_type": "code",
   "execution_count": 26,
   "metadata": {},
   "outputs": [],
   "source": [
    "dummies =pd.get_dummies(data['Sex'],prefix='Sex')\n",
    "dummies = dummies.astype('category',copy = False)\n",
    "data = pd.concat([data,dummies],axis=1)\n",
    "data.drop(['Sex'],axis=1,inplace=True)"
   ]
  },
  {
   "cell_type": "code",
   "execution_count": 27,
   "metadata": {},
   "outputs": [],
   "source": [
    "## Imputing null values with median"
   ]
  },
  {
   "cell_type": "code",
   "execution_count": 28,
   "metadata": {},
   "outputs": [],
   "source": [
    "data.loc[data.target_category==1,'Age']= data[data.target_category==1]['Age'].fillna(data[data.target_category==1]['Age'].median())\n",
    "data.loc[data.target_category==2,'Age']= data[data.target_category==2]['Age'].fillna(data[data.target_category==2]['Age'].median())\n",
    "data.loc[data.target_category==2,'Fare']= data[data.target_category==2]['Fare'].fillna(data[data.target_category==2]['Fare'].median())"
   ]
  },
  {
   "cell_type": "code",
   "execution_count": 29,
   "metadata": {},
   "outputs": [],
   "source": [
    "## Categorizing Fare :-\n",
    "## Fare > 100 \n",
    "## Fare <= 100"
   ]
  },
  {
   "cell_type": "code",
   "execution_count": 30,
   "metadata": {},
   "outputs": [],
   "source": [
    "data.loc[data.Fare >= 100,\"Fare_100_plus\"]=1\n",
    "data.loc[data.Fare < 100,\"Fare_100_plus\"]=0\n",
    "data['Fare_100_plus'].value_counts()\n",
    "dummies = pd.get_dummies(data['Fare_100_plus'],prefix='Fare_100_plus')\n",
    "dummies = dummies.astype('category',copy=False)\n",
    "data = pd.concat([data,dummies],axis=1)\n",
    "data.drop(['Fare_100_plus'],axis=1,inplace=True)"
   ]
  },
  {
   "cell_type": "code",
   "execution_count": 31,
   "metadata": {},
   "outputs": [
    {
     "data": {
      "text/plain": [
       "0    891\n",
       "1    319\n",
       "2     42\n",
       "4     22\n",
       "3     20\n",
       "8      9\n",
       "5      6\n",
       "Name: SibSp, dtype: int64"
      ]
     },
     "execution_count": 31,
     "metadata": {},
     "output_type": "execute_result"
    }
   ],
   "source": [
    "##Sibsp\n",
    "data['SibSp'].value_counts()"
   ]
  },
  {
   "cell_type": "code",
   "execution_count": 32,
   "metadata": {},
   "outputs": [],
   "source": [
    "dummies = pd.get_dummies(data['SibSp'],prefix='SibSp')\n",
    "dummies = dummies.astype('category',copy=False)\n",
    "data = pd.concat([data,dummies],axis=1)\n",
    "data.drop(['SibSp'],axis=1,inplace=True)"
   ]
  },
  {
   "cell_type": "code",
   "execution_count": 33,
   "metadata": {},
   "outputs": [
    {
     "data": {
      "text/plain": [
       "0    1002\n",
       "1     170\n",
       "2     113\n",
       "3       8\n",
       "5       6\n",
       "4       6\n",
       "9       2\n",
       "6       2\n",
       "Name: Parch, dtype: int64"
      ]
     },
     "execution_count": 33,
     "metadata": {},
     "output_type": "execute_result"
    }
   ],
   "source": [
    "## Parch\n",
    "data['Parch'].value_counts()"
   ]
  },
  {
   "cell_type": "code",
   "execution_count": 34,
   "metadata": {},
   "outputs": [],
   "source": [
    "dummies = pd.get_dummies(data['Parch'],prefix='Parch')\n",
    "dummies = dummies.astype('category',copy=False)\n",
    "data = pd.concat([data,dummies],axis=1)\n",
    "data.drop(['Parch'],axis=1,inplace=True)"
   ]
  },
  {
   "cell_type": "code",
   "execution_count": 35,
   "metadata": {},
   "outputs": [
    {
     "data": {
      "text/plain": [
       "C23 C25 C27        6\n",
       "B57 B59 B63 B66    5\n",
       "G6                 5\n",
       "C78                4\n",
       "F2                 4\n",
       "                  ..\n",
       "C132               1\n",
       "C91                1\n",
       "A19                1\n",
       "E60                1\n",
       "D6                 1\n",
       "Name: Cabin, Length: 186, dtype: int64"
      ]
     },
     "execution_count": 35,
     "metadata": {},
     "output_type": "execute_result"
    }
   ],
   "source": [
    "# Categorizing Cabins, taking first character of cabin information\n",
    "data['Cabin'].value_counts()"
   ]
  },
  {
   "cell_type": "code",
   "execution_count": 36,
   "metadata": {},
   "outputs": [],
   "source": [
    "data['Cabin_Class'] = data['Cabin'].str.get(0)\n",
    "data['Cabin_Class'].value_counts()\n",
    "data['Cabin_Class'] = data['Cabin_Class'].fillna(0)\n",
    "dummies = pd.get_dummies(data['Cabin_Class'],prefix='Cabin_Class')\n",
    "dummies = dummies.astype('category',copy=False)\n",
    "data = pd.concat([data,dummies],axis=1)\n",
    "data.drop(['Cabin_Class'],axis=1,inplace=True)\n",
    "data.drop(['Cabin'],axis=1,inplace=True)"
   ]
  },
  {
   "cell_type": "code",
   "execution_count": 37,
   "metadata": {},
   "outputs": [
    {
     "data": {
      "text/plain": [
       "S    914\n",
       "C    270\n",
       "Q    123\n",
       "Name: Embarked, dtype: int64"
      ]
     },
     "execution_count": 37,
     "metadata": {},
     "output_type": "execute_result"
    }
   ],
   "source": [
    "## Embarked\n",
    "data['Embarked'].value_counts()"
   ]
  },
  {
   "cell_type": "code",
   "execution_count": 38,
   "metadata": {},
   "outputs": [],
   "source": [
    "data['Embarked'].isnull().value_counts()\n",
    "data['Embarked'] = data['Embarked'].fillna(0)\n",
    "dummies = pd.get_dummies(data['Embarked'],prefix='Embarked')\n",
    "dummies = dummies.astype('category',copy=False)\n",
    "data = pd.concat([data,dummies],axis=1)\n",
    "data.drop(['Embarked'],axis=1,inplace=True)"
   ]
  },
  {
   "cell_type": "code",
   "execution_count": 39,
   "metadata": {},
   "outputs": [],
   "source": [
    "## Getting Title information from Name"
   ]
  },
  {
   "cell_type": "code",
   "execution_count": 40,
   "metadata": {},
   "outputs": [
    {
     "data": {
      "text/plain": [
       "{'Capt',\n",
       " 'Col',\n",
       " 'Don',\n",
       " 'Dona',\n",
       " 'Dr',\n",
       " 'Jonkheer',\n",
       " 'Lady',\n",
       " 'Major',\n",
       " 'Master',\n",
       " 'Miss',\n",
       " 'Mlle',\n",
       " 'Mme',\n",
       " 'Mr',\n",
       " 'Mrs',\n",
       " 'Ms',\n",
       " 'Rev',\n",
       " 'Sir',\n",
       " 'the Countess'}"
      ]
     },
     "execution_count": 40,
     "metadata": {},
     "output_type": "execute_result"
    }
   ],
   "source": [
    "titles = []\n",
    "for name in data['Name']:\n",
    "    titles.append(name.split(',')[1].split('.')[0].strip())    \n",
    "set(titles)"
   ]
  },
  {
   "cell_type": "code",
   "execution_count": 41,
   "metadata": {},
   "outputs": [],
   "source": [
    "Title_Dictionary = {\n",
    "    \"Capt\": \"Officer\",\n",
    "    \"Col\": \"Officer\",\n",
    "    \"Dona\" : \"Miss\",\n",
    "    \"Dr\": \"Officer\",\n",
    "    \"Jonkheer\": \"Royalty\",\n",
    "    \"Lady\" : \"Royalty\",\n",
    "    \"Master\" : \"Master\",\n",
    "    \"Miss\" : \"Miss\",\n",
    "    \"Mlle\": \"Miss\",\n",
    "    \"Mme\": \"Mrs\",\n",
    "    \"Mr\" : \"Mr\",\n",
    "    \"Mrs\" : \"Mrs\",\n",
    "    \"Ms\": \"Mrs\",\n",
    "    \"Rev\": \"Officer\",\n",
    "    \"Sir\" : \"Royalty\",\n",
    "    \"the Countess\":\"Royalty\"    \n",
    "}"
   ]
  },
  {
   "cell_type": "code",
   "execution_count": 42,
   "metadata": {},
   "outputs": [],
   "source": [
    "data['title'] = data['Name'].map(lambda x : x.split(',')[1].split('.')[0].strip())\n",
    "data['title'] = data.title.map(Title_Dictionary) \n",
    "data['title'].value_counts()\n",
    "dummies = pd.get_dummies(data['title'],prefix='title')\n",
    "dummies = dummies.astype('category',copy=False)\n",
    "data = pd.concat([data,dummies],axis=1)\n",
    "data.drop(['title'],axis=1,inplace=True)"
   ]
  },
  {
   "cell_type": "code",
   "execution_count": 43,
   "metadata": {},
   "outputs": [
    {
     "name": "stdout",
     "output_type": "stream",
     "text": [
      "<class 'pandas.core.frame.DataFrame'>\n",
      "RangeIndex: 1309 entries, 0 to 1308\n",
      "Data columns (total 48 columns):\n",
      " #   Column             Non-Null Count  Dtype   \n",
      "---  ------             --------------  -----   \n",
      " 0   PassengerId        1309 non-null   int64   \n",
      " 1   Survived           1309 non-null   int64   \n",
      " 2   Name               1309 non-null   object  \n",
      " 3   Age                1309 non-null   float64 \n",
      " 4   Ticket             1309 non-null   object  \n",
      " 5   Fare               1309 non-null   float64 \n",
      " 6   target_category    1309 non-null   int64   \n",
      " 7   Pclass_1           1309 non-null   category\n",
      " 8   Pclass_2           1309 non-null   category\n",
      " 9   Pclass_3           1309 non-null   category\n",
      " 10  Sex_female         1309 non-null   category\n",
      " 11  Sex_male           1309 non-null   category\n",
      " 12  Fare_100_plus_0.0  1309 non-null   category\n",
      " 13  Fare_100_plus_1.0  1309 non-null   category\n",
      " 14  SibSp_0            1309 non-null   category\n",
      " 15  SibSp_1            1309 non-null   category\n",
      " 16  SibSp_2            1309 non-null   category\n",
      " 17  SibSp_3            1309 non-null   category\n",
      " 18  SibSp_4            1309 non-null   category\n",
      " 19  SibSp_5            1309 non-null   category\n",
      " 20  SibSp_8            1309 non-null   category\n",
      " 21  Parch_0            1309 non-null   category\n",
      " 22  Parch_1            1309 non-null   category\n",
      " 23  Parch_2            1309 non-null   category\n",
      " 24  Parch_3            1309 non-null   category\n",
      " 25  Parch_4            1309 non-null   category\n",
      " 26  Parch_5            1309 non-null   category\n",
      " 27  Parch_6            1309 non-null   category\n",
      " 28  Parch_9            1309 non-null   category\n",
      " 29  Cabin_Class_0      1309 non-null   category\n",
      " 30  Cabin_Class_A      1309 non-null   category\n",
      " 31  Cabin_Class_B      1309 non-null   category\n",
      " 32  Cabin_Class_C      1309 non-null   category\n",
      " 33  Cabin_Class_D      1309 non-null   category\n",
      " 34  Cabin_Class_E      1309 non-null   category\n",
      " 35  Cabin_Class_F      1309 non-null   category\n",
      " 36  Cabin_Class_G      1309 non-null   category\n",
      " 37  Cabin_Class_T      1309 non-null   category\n",
      " 38  Embarked_0         1309 non-null   category\n",
      " 39  Embarked_C         1309 non-null   category\n",
      " 40  Embarked_Q         1309 non-null   category\n",
      " 41  Embarked_S         1309 non-null   category\n",
      " 42  title_Master       1309 non-null   category\n",
      " 43  title_Miss         1309 non-null   category\n",
      " 44  title_Mr           1309 non-null   category\n",
      " 45  title_Mrs          1309 non-null   category\n",
      " 46  title_Officer      1309 non-null   category\n",
      " 47  title_Royalty      1309 non-null   category\n",
      "dtypes: category(41), float64(2), int64(3), object(2)\n",
      "memory usage: 128.0+ KB\n"
     ]
    }
   ],
   "source": [
    "data.info()"
   ]
  },
  {
   "cell_type": "code",
   "execution_count": 44,
   "metadata": {},
   "outputs": [],
   "source": [
    "feature_set_train = list(filter(lambda x : x not in ['Name','Ticket','PassengerId','target_category','died'],list(data.columns)))\n",
    "feature_set_test = list(filter(lambda x : x not in ['Name','Ticket','Survived','PassengerId','target_category','died'],list(data.columns)))"
   ]
  },
  {
   "cell_type": "code",
   "execution_count": 45,
   "metadata": {},
   "outputs": [],
   "source": [
    "## variable reduction"
   ]
  },
  {
   "cell_type": "code",
   "execution_count": 46,
   "metadata": {},
   "outputs": [],
   "source": [
    "zero_var_name =[]"
   ]
  },
  {
   "cell_type": "code",
   "execution_count": 47,
   "metadata": {},
   "outputs": [],
   "source": [
    "for name in feature_set:\n",
    "    try:\n",
    "        if np.var(data[data.target_category==1][name])==0:\n",
    "            zero_var_name.append(name)\n",
    "    except:\n",
    "        continue    "
   ]
  },
  {
   "cell_type": "code",
   "execution_count": 48,
   "metadata": {},
   "outputs": [
    {
     "data": {
      "text/plain": [
       "[]"
      ]
     },
     "execution_count": 48,
     "metadata": {},
     "output_type": "execute_result"
    }
   ],
   "source": [
    "mycorr = data[data.target_category==1][feature_set_test].corr(method = 'pearson').abs()\n",
    "upper = mycorr.where(np.triu(np.ones(mycorr.shape), k=1).astype(np.bool))\n",
    "to_drop = [column for column in upper.columns if any(upper[column]>.99)]\n",
    "to_drop"
   ]
  },
  {
   "cell_type": "code",
   "execution_count": 49,
   "metadata": {},
   "outputs": [],
   "source": [
    "training = data[feature_set_train][data.target_category==1] \n",
    "training.index = range(len(training))\n",
    "test = data[feature_set_test][data.target_category==2]\n",
    "test.index = range(len(test))"
   ]
  },
  {
   "cell_type": "code",
   "execution_count": 50,
   "metadata": {},
   "outputs": [
    {
     "data": {
      "text/plain": [
       "0"
      ]
     },
     "execution_count": 50,
     "metadata": {},
     "output_type": "execute_result"
    }
   ],
   "source": [
    "training.isnull().any().sum()"
   ]
  },
  {
   "cell_type": "code",
   "execution_count": 51,
   "metadata": {},
   "outputs": [
    {
     "data": {
      "text/plain": [
       "0"
      ]
     },
     "execution_count": 51,
     "metadata": {},
     "output_type": "execute_result"
    }
   ],
   "source": [
    "training.isna().any().sum()"
   ]
  },
  {
   "cell_type": "code",
   "execution_count": 52,
   "metadata": {},
   "outputs": [
    {
     "data": {
      "text/plain": [
       "0"
      ]
     },
     "execution_count": 52,
     "metadata": {},
     "output_type": "execute_result"
    }
   ],
   "source": [
    "test.isnull().any().sum()"
   ]
  },
  {
   "cell_type": "code",
   "execution_count": 53,
   "metadata": {},
   "outputs": [
    {
     "data": {
      "text/plain": [
       "0"
      ]
     },
     "execution_count": 53,
     "metadata": {},
     "output_type": "execute_result"
    }
   ],
   "source": [
    "test.isna().any().sum()"
   ]
  },
  {
   "cell_type": "code",
   "execution_count": 54,
   "metadata": {},
   "outputs": [
    {
     "data": {
      "text/plain": [
       "male      266\n",
       "female    152\n",
       "Name: Sex, dtype: int64"
      ]
     },
     "execution_count": 54,
     "metadata": {},
     "output_type": "execute_result"
    }
   ],
   "source": [
    "data_test['Sex'].value_counts()"
   ]
  },
  {
   "cell_type": "code",
   "execution_count": 55,
   "metadata": {},
   "outputs": [
    {
     "data": {
      "text/plain": [
       "male      577\n",
       "female    314\n",
       "Name: Sex, dtype: int64"
      ]
     },
     "execution_count": 55,
     "metadata": {},
     "output_type": "execute_result"
    }
   ],
   "source": [
    "data_train['Sex'].value_counts()"
   ]
  },
  {
   "cell_type": "code",
   "execution_count": 56,
   "metadata": {},
   "outputs": [],
   "source": [
    "##training = pd.concat([training.sample(n=400),training],axis=0)"
   ]
  },
  {
   "cell_type": "code",
   "execution_count": 57,
   "metadata": {},
   "outputs": [],
   "source": [
    "##training.index = range(len(training))"
   ]
  },
  {
   "cell_type": "code",
   "execution_count": 58,
   "metadata": {},
   "outputs": [],
   "source": [
    "x = training.loc[:,training.columns !='Survived']\n",
    "y = pd.DataFrame(training['Survived'],columns=['Survived'])"
   ]
  },
  {
   "cell_type": "code",
   "execution_count": 395,
   "metadata": {},
   "outputs": [
    {
     "data": {
      "text/html": [
       "<div>\n",
       "<style scoped>\n",
       "    .dataframe tbody tr th:only-of-type {\n",
       "        vertical-align: middle;\n",
       "    }\n",
       "\n",
       "    .dataframe tbody tr th {\n",
       "        vertical-align: top;\n",
       "    }\n",
       "\n",
       "    .dataframe thead th {\n",
       "        text-align: right;\n",
       "    }\n",
       "</style>\n",
       "<table border=\"1\" class=\"dataframe\">\n",
       "  <thead>\n",
       "    <tr style=\"text-align: right;\">\n",
       "      <th></th>\n",
       "      <th>Survived</th>\n",
       "      <th>Age</th>\n",
       "      <th>Fare</th>\n",
       "      <th>Pclass_1</th>\n",
       "      <th>Pclass_2</th>\n",
       "      <th>Pclass_3</th>\n",
       "      <th>Sex_female</th>\n",
       "      <th>Sex_male</th>\n",
       "      <th>Fare_100_plus_0.0</th>\n",
       "      <th>Fare_100_plus_1.0</th>\n",
       "      <th>...</th>\n",
       "      <th>Embarked_0</th>\n",
       "      <th>Embarked_C</th>\n",
       "      <th>Embarked_Q</th>\n",
       "      <th>Embarked_S</th>\n",
       "      <th>title_Master</th>\n",
       "      <th>title_Miss</th>\n",
       "      <th>title_Mr</th>\n",
       "      <th>title_Mrs</th>\n",
       "      <th>title_Officer</th>\n",
       "      <th>title_Royalty</th>\n",
       "    </tr>\n",
       "  </thead>\n",
       "  <tbody>\n",
       "    <tr>\n",
       "      <th>0</th>\n",
       "      <td>0</td>\n",
       "      <td>22.0</td>\n",
       "      <td>7.2500</td>\n",
       "      <td>0</td>\n",
       "      <td>0</td>\n",
       "      <td>1</td>\n",
       "      <td>0</td>\n",
       "      <td>1</td>\n",
       "      <td>1</td>\n",
       "      <td>0</td>\n",
       "      <td>...</td>\n",
       "      <td>0</td>\n",
       "      <td>0</td>\n",
       "      <td>0</td>\n",
       "      <td>1</td>\n",
       "      <td>0</td>\n",
       "      <td>0</td>\n",
       "      <td>1</td>\n",
       "      <td>0</td>\n",
       "      <td>0</td>\n",
       "      <td>0</td>\n",
       "    </tr>\n",
       "    <tr>\n",
       "      <th>1</th>\n",
       "      <td>1</td>\n",
       "      <td>38.0</td>\n",
       "      <td>71.2833</td>\n",
       "      <td>1</td>\n",
       "      <td>0</td>\n",
       "      <td>0</td>\n",
       "      <td>1</td>\n",
       "      <td>0</td>\n",
       "      <td>1</td>\n",
       "      <td>0</td>\n",
       "      <td>...</td>\n",
       "      <td>0</td>\n",
       "      <td>1</td>\n",
       "      <td>0</td>\n",
       "      <td>0</td>\n",
       "      <td>0</td>\n",
       "      <td>0</td>\n",
       "      <td>0</td>\n",
       "      <td>1</td>\n",
       "      <td>0</td>\n",
       "      <td>0</td>\n",
       "    </tr>\n",
       "    <tr>\n",
       "      <th>2</th>\n",
       "      <td>1</td>\n",
       "      <td>26.0</td>\n",
       "      <td>7.9250</td>\n",
       "      <td>0</td>\n",
       "      <td>0</td>\n",
       "      <td>1</td>\n",
       "      <td>1</td>\n",
       "      <td>0</td>\n",
       "      <td>1</td>\n",
       "      <td>0</td>\n",
       "      <td>...</td>\n",
       "      <td>0</td>\n",
       "      <td>0</td>\n",
       "      <td>0</td>\n",
       "      <td>1</td>\n",
       "      <td>0</td>\n",
       "      <td>1</td>\n",
       "      <td>0</td>\n",
       "      <td>0</td>\n",
       "      <td>0</td>\n",
       "      <td>0</td>\n",
       "    </tr>\n",
       "    <tr>\n",
       "      <th>3</th>\n",
       "      <td>1</td>\n",
       "      <td>35.0</td>\n",
       "      <td>53.1000</td>\n",
       "      <td>1</td>\n",
       "      <td>0</td>\n",
       "      <td>0</td>\n",
       "      <td>1</td>\n",
       "      <td>0</td>\n",
       "      <td>1</td>\n",
       "      <td>0</td>\n",
       "      <td>...</td>\n",
       "      <td>0</td>\n",
       "      <td>0</td>\n",
       "      <td>0</td>\n",
       "      <td>1</td>\n",
       "      <td>0</td>\n",
       "      <td>0</td>\n",
       "      <td>0</td>\n",
       "      <td>1</td>\n",
       "      <td>0</td>\n",
       "      <td>0</td>\n",
       "    </tr>\n",
       "    <tr>\n",
       "      <th>4</th>\n",
       "      <td>0</td>\n",
       "      <td>35.0</td>\n",
       "      <td>8.0500</td>\n",
       "      <td>0</td>\n",
       "      <td>0</td>\n",
       "      <td>1</td>\n",
       "      <td>0</td>\n",
       "      <td>1</td>\n",
       "      <td>1</td>\n",
       "      <td>0</td>\n",
       "      <td>...</td>\n",
       "      <td>0</td>\n",
       "      <td>0</td>\n",
       "      <td>0</td>\n",
       "      <td>1</td>\n",
       "      <td>0</td>\n",
       "      <td>0</td>\n",
       "      <td>1</td>\n",
       "      <td>0</td>\n",
       "      <td>0</td>\n",
       "      <td>0</td>\n",
       "    </tr>\n",
       "  </tbody>\n",
       "</table>\n",
       "<p>5 rows × 44 columns</p>\n",
       "</div>"
      ],
      "text/plain": [
       "   Survived   Age     Fare Pclass_1 Pclass_2 Pclass_3 Sex_female Sex_male  \\\n",
       "0         0  22.0   7.2500        0        0        1          0        1   \n",
       "1         1  38.0  71.2833        1        0        0          1        0   \n",
       "2         1  26.0   7.9250        0        0        1          1        0   \n",
       "3         1  35.0  53.1000        1        0        0          1        0   \n",
       "4         0  35.0   8.0500        0        0        1          0        1   \n",
       "\n",
       "  Fare_100_plus_0.0 Fare_100_plus_1.0  ... Embarked_0 Embarked_C Embarked_Q  \\\n",
       "0                 1                 0  ...          0          0          0   \n",
       "1                 1                 0  ...          0          1          0   \n",
       "2                 1                 0  ...          0          0          0   \n",
       "3                 1                 0  ...          0          0          0   \n",
       "4                 1                 0  ...          0          0          0   \n",
       "\n",
       "  Embarked_S title_Master title_Miss title_Mr title_Mrs title_Officer  \\\n",
       "0          1            0          0        1         0             0   \n",
       "1          0            0          0        0         1             0   \n",
       "2          1            0          1        0         0             0   \n",
       "3          1            0          0        0         1             0   \n",
       "4          1            0          0        1         0             0   \n",
       "\n",
       "  title_Royalty  \n",
       "0             0  \n",
       "1             0  \n",
       "2             0  \n",
       "3             0  \n",
       "4             0  \n",
       "\n",
       "[5 rows x 44 columns]"
      ]
     },
     "execution_count": 395,
     "metadata": {},
     "output_type": "execute_result"
    }
   ],
   "source": [
    "training.head()"
   ]
  },
  {
   "cell_type": "code",
   "execution_count": 396,
   "metadata": {},
   "outputs": [
    {
     "name": "stdout",
     "output_type": "stream",
     "text": [
      "0.8294132334581773\n"
     ]
    }
   ],
   "source": [
    "## Taking training sampling as +400 \n",
    "rf = RandomForestClassifier(max_depth= 6, min_samples_leaf=2,min_weight_fraction_leaf=.002,criterion='entropy')\n",
    "print(np.mean(cross_val_score(rf, x,y.values.ravel(), scoring=\"accuracy\", cv=10)))"
   ]
  },
  {
   "cell_type": "code",
   "execution_count": 397,
   "metadata": {},
   "outputs": [],
   "source": [
    "rf_model = rf.fit(x, y.values.ravel())\n",
    "scoring_pred = pd.DataFrame(rf_model.predict(test),columns=['Survived'])\n",
    "scoring_pass_id = pd.DataFrame( data['PassengerId'][data.target_category==2], columns = ['PassengerId'])\n",
    "scoring_pass_id.index = range(len(scoring_pass_id))\n",
    "scoring_rf_df = pd.concat([scoring_pass_id,scoring_pred['Survived']], axis =1)  \n",
    "scoring_rf_df.to_csv(\"scoring_rf_400.csv\")"
   ]
  },
  {
   "cell_type": "code",
   "execution_count": 398,
   "metadata": {},
   "outputs": [
    {
     "data": {
      "text/html": [
       "<div>\n",
       "<style scoped>\n",
       "    .dataframe tbody tr th:only-of-type {\n",
       "        vertical-align: middle;\n",
       "    }\n",
       "\n",
       "    .dataframe tbody tr th {\n",
       "        vertical-align: top;\n",
       "    }\n",
       "\n",
       "    .dataframe thead th {\n",
       "        text-align: right;\n",
       "    }\n",
       "</style>\n",
       "<table border=\"1\" class=\"dataframe\">\n",
       "  <thead>\n",
       "    <tr style=\"text-align: right;\">\n",
       "      <th></th>\n",
       "      <th>PassengerId</th>\n",
       "      <th>Survived</th>\n",
       "    </tr>\n",
       "  </thead>\n",
       "  <tbody>\n",
       "    <tr>\n",
       "      <th>0</th>\n",
       "      <td>892</td>\n",
       "      <td>0</td>\n",
       "    </tr>\n",
       "    <tr>\n",
       "      <th>1</th>\n",
       "      <td>893</td>\n",
       "      <td>0</td>\n",
       "    </tr>\n",
       "    <tr>\n",
       "      <th>2</th>\n",
       "      <td>894</td>\n",
       "      <td>0</td>\n",
       "    </tr>\n",
       "    <tr>\n",
       "      <th>3</th>\n",
       "      <td>895</td>\n",
       "      <td>0</td>\n",
       "    </tr>\n",
       "    <tr>\n",
       "      <th>4</th>\n",
       "      <td>896</td>\n",
       "      <td>1</td>\n",
       "    </tr>\n",
       "    <tr>\n",
       "      <th>...</th>\n",
       "      <td>...</td>\n",
       "      <td>...</td>\n",
       "    </tr>\n",
       "    <tr>\n",
       "      <th>413</th>\n",
       "      <td>1305</td>\n",
       "      <td>0</td>\n",
       "    </tr>\n",
       "    <tr>\n",
       "      <th>414</th>\n",
       "      <td>1306</td>\n",
       "      <td>1</td>\n",
       "    </tr>\n",
       "    <tr>\n",
       "      <th>415</th>\n",
       "      <td>1307</td>\n",
       "      <td>0</td>\n",
       "    </tr>\n",
       "    <tr>\n",
       "      <th>416</th>\n",
       "      <td>1308</td>\n",
       "      <td>0</td>\n",
       "    </tr>\n",
       "    <tr>\n",
       "      <th>417</th>\n",
       "      <td>1309</td>\n",
       "      <td>1</td>\n",
       "    </tr>\n",
       "  </tbody>\n",
       "</table>\n",
       "<p>418 rows × 2 columns</p>\n",
       "</div>"
      ],
      "text/plain": [
       "     PassengerId  Survived\n",
       "0            892         0\n",
       "1            893         0\n",
       "2            894         0\n",
       "3            895         0\n",
       "4            896         1\n",
       "..           ...       ...\n",
       "413         1305         0\n",
       "414         1306         1\n",
       "415         1307         0\n",
       "416         1308         0\n",
       "417         1309         1\n",
       "\n",
       "[418 rows x 2 columns]"
      ]
     },
     "execution_count": 398,
     "metadata": {},
     "output_type": "execute_result"
    }
   ],
   "source": [
    "scoring_rf_df\n",
    "## This result has given .79425 on test data after submission i.e. Top 16%"
   ]
  },
  {
   "cell_type": "code",
   "execution_count": 399,
   "metadata": {},
   "outputs": [
    {
     "name": "stdout",
     "output_type": "stream",
     "text": [
      "0.8339700374531833\n"
     ]
    }
   ],
   "source": [
    "## Taking training sampling as +400 \n",
    "lgbm = lgb.LGBMClassifier(learning_rate =.2,max_depth = 5,scale_pos_weight=1,min_split_gain=0.1)   \n",
    "print(np.mean(cross_val_score(lgbm, x,y.values.ravel(), scoring=\"accuracy\", cv=10)))"
   ]
  },
  {
   "cell_type": "code",
   "execution_count": 404,
   "metadata": {},
   "outputs": [],
   "source": [
    "lgbm_model = lgbm.fit(x, y.values.ravel())\n",
    "scoring_pred = pd.DataFrame(lgbm_model.predict(test),columns=['Survived'])\n",
    "scoring_pass_id = pd.DataFrame( data['PassengerId'][data.target_category==2], columns = ['PassengerId'])\n",
    "scoring_pass_id.index = range(len(scoring_pass_id))\n",
    "scoring_lgbm_df = pd.concat([scoring_pass_id,scoring_pred['Survived']], axis =1)  \n",
    "scoring_lgbm_df.to_csv(\"scoring_lgbm.csv\")"
   ]
  },
  {
   "cell_type": "code",
   "execution_count": 400,
   "metadata": {},
   "outputs": [
    {
     "name": "stdout",
     "output_type": "stream",
     "text": [
      "0.8227215980024969\n"
     ]
    }
   ],
   "source": [
    "\n",
    "gbm = GradientBoostingClassifier(n_estimators=200,min_samples_split=2,\n",
    "                                        min_samples_leaf=2,max_depth=6,\n",
    "                                        max_features='auto',learning_rate=.07,\n",
    "                                        random_state=123)\n",
    "  \n",
    "print(np.mean(cross_val_score(gbm, x,y.values.ravel(), scoring=\"accuracy\", cv=10)))"
   ]
  },
  {
   "cell_type": "code",
   "execution_count": 401,
   "metadata": {},
   "outputs": [],
   "source": [
    "gbm_model = gbm.fit(x, y.values.ravel())\n",
    "scoring_pred = pd.DataFrame(gbm_model.predict(test),columns=['Survived'])\n",
    "scoring_pass_id = pd.DataFrame( data['PassengerId'][data.target_category==2], columns = ['PassengerId'])\n",
    "scoring_pass_id.index = range(len(scoring_pass_id))\n",
    "scoring_gbm_df = pd.concat([scoring_pass_id,scoring_pred['Survived']], axis =1)  \n",
    "scoring_gbm_df.to_csv(\"scoring_gbm_400.csv\")"
   ]
  },
  {
   "cell_type": "code",
   "execution_count": 402,
   "metadata": {},
   "outputs": [],
   "source": [
    "gbm_feature_importances = pd.DataFrame(gbm_model.feature_importances_*100,\n",
    "                                   index = x.columns,\n",
    "                                    columns=['importance']).sort_values('importance',ascending=False)"
   ]
  },
  {
   "cell_type": "code",
   "execution_count": 403,
   "metadata": {},
   "outputs": [
    {
     "data": {
      "text/html": [
       "<div>\n",
       "<style scoped>\n",
       "    .dataframe tbody tr th:only-of-type {\n",
       "        vertical-align: middle;\n",
       "    }\n",
       "\n",
       "    .dataframe tbody tr th {\n",
       "        vertical-align: top;\n",
       "    }\n",
       "\n",
       "    .dataframe thead th {\n",
       "        text-align: right;\n",
       "    }\n",
       "</style>\n",
       "<table border=\"1\" class=\"dataframe\">\n",
       "  <thead>\n",
       "    <tr style=\"text-align: right;\">\n",
       "      <th></th>\n",
       "      <th>importance</th>\n",
       "    </tr>\n",
       "  </thead>\n",
       "  <tbody>\n",
       "    <tr>\n",
       "      <th>title_Mr</th>\n",
       "      <td>34.157250</td>\n",
       "    </tr>\n",
       "    <tr>\n",
       "      <th>Fare</th>\n",
       "      <td>24.102339</td>\n",
       "    </tr>\n",
       "    <tr>\n",
       "      <th>Age</th>\n",
       "      <td>16.597113</td>\n",
       "    </tr>\n",
       "    <tr>\n",
       "      <th>Pclass_3</th>\n",
       "      <td>8.632800</td>\n",
       "    </tr>\n",
       "    <tr>\n",
       "      <th>title_Officer</th>\n",
       "      <td>3.688705</td>\n",
       "    </tr>\n",
       "    <tr>\n",
       "      <th>Cabin_Class_0</th>\n",
       "      <td>1.422217</td>\n",
       "    </tr>\n",
       "    <tr>\n",
       "      <th>Pclass_2</th>\n",
       "      <td>1.093108</td>\n",
       "    </tr>\n",
       "    <tr>\n",
       "      <th>SibSp_1</th>\n",
       "      <td>0.914842</td>\n",
       "    </tr>\n",
       "    <tr>\n",
       "      <th>Embarked_S</th>\n",
       "      <td>0.830156</td>\n",
       "    </tr>\n",
       "    <tr>\n",
       "      <th>SibSp_0</th>\n",
       "      <td>0.760268</td>\n",
       "    </tr>\n",
       "    <tr>\n",
       "      <th>SibSp_3</th>\n",
       "      <td>0.742508</td>\n",
       "    </tr>\n",
       "    <tr>\n",
       "      <th>Cabin_Class_E</th>\n",
       "      <td>0.735000</td>\n",
       "    </tr>\n",
       "    <tr>\n",
       "      <th>Parch_0</th>\n",
       "      <td>0.634503</td>\n",
       "    </tr>\n",
       "    <tr>\n",
       "      <th>Sex_male</th>\n",
       "      <td>0.581743</td>\n",
       "    </tr>\n",
       "    <tr>\n",
       "      <th>title_Miss</th>\n",
       "      <td>0.576956</td>\n",
       "    </tr>\n",
       "    <tr>\n",
       "      <th>Pclass_1</th>\n",
       "      <td>0.563563</td>\n",
       "    </tr>\n",
       "    <tr>\n",
       "      <th>Cabin_Class_C</th>\n",
       "      <td>0.546986</td>\n",
       "    </tr>\n",
       "    <tr>\n",
       "      <th>Sex_female</th>\n",
       "      <td>0.508707</td>\n",
       "    </tr>\n",
       "    <tr>\n",
       "      <th>Embarked_C</th>\n",
       "      <td>0.470693</td>\n",
       "    </tr>\n",
       "    <tr>\n",
       "      <th>Parch_2</th>\n",
       "      <td>0.395986</td>\n",
       "    </tr>\n",
       "    <tr>\n",
       "      <th>title_Mrs</th>\n",
       "      <td>0.346930</td>\n",
       "    </tr>\n",
       "    <tr>\n",
       "      <th>Cabin_Class_D</th>\n",
       "      <td>0.304374</td>\n",
       "    </tr>\n",
       "    <tr>\n",
       "      <th>Embarked_Q</th>\n",
       "      <td>0.213475</td>\n",
       "    </tr>\n",
       "    <tr>\n",
       "      <th>Cabin_Class_B</th>\n",
       "      <td>0.193971</td>\n",
       "    </tr>\n",
       "    <tr>\n",
       "      <th>title_Master</th>\n",
       "      <td>0.191562</td>\n",
       "    </tr>\n",
       "    <tr>\n",
       "      <th>SibSp_2</th>\n",
       "      <td>0.125753</td>\n",
       "    </tr>\n",
       "    <tr>\n",
       "      <th>Cabin_Class_A</th>\n",
       "      <td>0.125718</td>\n",
       "    </tr>\n",
       "    <tr>\n",
       "      <th>Parch_1</th>\n",
       "      <td>0.124231</td>\n",
       "    </tr>\n",
       "    <tr>\n",
       "      <th>Fare_100_plus_1.0</th>\n",
       "      <td>0.104384</td>\n",
       "    </tr>\n",
       "    <tr>\n",
       "      <th>Fare_100_plus_0.0</th>\n",
       "      <td>0.079570</td>\n",
       "    </tr>\n",
       "    <tr>\n",
       "      <th>Parch_4</th>\n",
       "      <td>0.071260</td>\n",
       "    </tr>\n",
       "    <tr>\n",
       "      <th>Cabin_Class_G</th>\n",
       "      <td>0.068879</td>\n",
       "    </tr>\n",
       "    <tr>\n",
       "      <th>SibSp_4</th>\n",
       "      <td>0.059572</td>\n",
       "    </tr>\n",
       "    <tr>\n",
       "      <th>Parch_5</th>\n",
       "      <td>0.016924</td>\n",
       "    </tr>\n",
       "    <tr>\n",
       "      <th>Cabin_Class_F</th>\n",
       "      <td>0.013111</td>\n",
       "    </tr>\n",
       "    <tr>\n",
       "      <th>Parch_3</th>\n",
       "      <td>0.004586</td>\n",
       "    </tr>\n",
       "    <tr>\n",
       "      <th>SibSp_8</th>\n",
       "      <td>0.000259</td>\n",
       "    </tr>\n",
       "    <tr>\n",
       "      <th>Embarked_0</th>\n",
       "      <td>0.000000</td>\n",
       "    </tr>\n",
       "    <tr>\n",
       "      <th>Cabin_Class_T</th>\n",
       "      <td>0.000000</td>\n",
       "    </tr>\n",
       "    <tr>\n",
       "      <th>Parch_9</th>\n",
       "      <td>0.000000</td>\n",
       "    </tr>\n",
       "    <tr>\n",
       "      <th>Parch_6</th>\n",
       "      <td>0.000000</td>\n",
       "    </tr>\n",
       "    <tr>\n",
       "      <th>SibSp_5</th>\n",
       "      <td>0.000000</td>\n",
       "    </tr>\n",
       "    <tr>\n",
       "      <th>title_Royalty</th>\n",
       "      <td>0.000000</td>\n",
       "    </tr>\n",
       "  </tbody>\n",
       "</table>\n",
       "</div>"
      ],
      "text/plain": [
       "                   importance\n",
       "title_Mr            34.157250\n",
       "Fare                24.102339\n",
       "Age                 16.597113\n",
       "Pclass_3             8.632800\n",
       "title_Officer        3.688705\n",
       "Cabin_Class_0        1.422217\n",
       "Pclass_2             1.093108\n",
       "SibSp_1              0.914842\n",
       "Embarked_S           0.830156\n",
       "SibSp_0              0.760268\n",
       "SibSp_3              0.742508\n",
       "Cabin_Class_E        0.735000\n",
       "Parch_0              0.634503\n",
       "Sex_male             0.581743\n",
       "title_Miss           0.576956\n",
       "Pclass_1             0.563563\n",
       "Cabin_Class_C        0.546986\n",
       "Sex_female           0.508707\n",
       "Embarked_C           0.470693\n",
       "Parch_2              0.395986\n",
       "title_Mrs            0.346930\n",
       "Cabin_Class_D        0.304374\n",
       "Embarked_Q           0.213475\n",
       "Cabin_Class_B        0.193971\n",
       "title_Master         0.191562\n",
       "SibSp_2              0.125753\n",
       "Cabin_Class_A        0.125718\n",
       "Parch_1              0.124231\n",
       "Fare_100_plus_1.0    0.104384\n",
       "Fare_100_plus_0.0    0.079570\n",
       "Parch_4              0.071260\n",
       "Cabin_Class_G        0.068879\n",
       "SibSp_4              0.059572\n",
       "Parch_5              0.016924\n",
       "Cabin_Class_F        0.013111\n",
       "Parch_3              0.004586\n",
       "SibSp_8              0.000259\n",
       "Embarked_0           0.000000\n",
       "Cabin_Class_T        0.000000\n",
       "Parch_9              0.000000\n",
       "Parch_6              0.000000\n",
       "SibSp_5              0.000000\n",
       "title_Royalty        0.000000"
      ]
     },
     "execution_count": 403,
     "metadata": {},
     "output_type": "execute_result"
    }
   ],
   "source": [
    "gbm_feature_importances"
   ]
  },
  {
   "cell_type": "code",
   "execution_count": 93,
   "metadata": {},
   "outputs": [
    {
     "data": {
      "text/html": [
       "<div>\n",
       "<style scoped>\n",
       "    .dataframe tbody tr th:only-of-type {\n",
       "        vertical-align: middle;\n",
       "    }\n",
       "\n",
       "    .dataframe tbody tr th {\n",
       "        vertical-align: top;\n",
       "    }\n",
       "\n",
       "    .dataframe thead th {\n",
       "        text-align: right;\n",
       "    }\n",
       "</style>\n",
       "<table border=\"1\" class=\"dataframe\">\n",
       "  <thead>\n",
       "    <tr style=\"text-align: right;\">\n",
       "      <th></th>\n",
       "      <th>PassengerId</th>\n",
       "      <th>Survived</th>\n",
       "    </tr>\n",
       "  </thead>\n",
       "  <tbody>\n",
       "    <tr>\n",
       "      <th>0</th>\n",
       "      <td>892</td>\n",
       "      <td>0</td>\n",
       "    </tr>\n",
       "    <tr>\n",
       "      <th>1</th>\n",
       "      <td>893</td>\n",
       "      <td>0</td>\n",
       "    </tr>\n",
       "    <tr>\n",
       "      <th>2</th>\n",
       "      <td>894</td>\n",
       "      <td>0</td>\n",
       "    </tr>\n",
       "    <tr>\n",
       "      <th>3</th>\n",
       "      <td>895</td>\n",
       "      <td>0</td>\n",
       "    </tr>\n",
       "    <tr>\n",
       "      <th>4</th>\n",
       "      <td>896</td>\n",
       "      <td>0</td>\n",
       "    </tr>\n",
       "    <tr>\n",
       "      <th>...</th>\n",
       "      <td>...</td>\n",
       "      <td>...</td>\n",
       "    </tr>\n",
       "    <tr>\n",
       "      <th>413</th>\n",
       "      <td>1305</td>\n",
       "      <td>0</td>\n",
       "    </tr>\n",
       "    <tr>\n",
       "      <th>414</th>\n",
       "      <td>1306</td>\n",
       "      <td>1</td>\n",
       "    </tr>\n",
       "    <tr>\n",
       "      <th>415</th>\n",
       "      <td>1307</td>\n",
       "      <td>0</td>\n",
       "    </tr>\n",
       "    <tr>\n",
       "      <th>416</th>\n",
       "      <td>1308</td>\n",
       "      <td>0</td>\n",
       "    </tr>\n",
       "    <tr>\n",
       "      <th>417</th>\n",
       "      <td>1309</td>\n",
       "      <td>1</td>\n",
       "    </tr>\n",
       "  </tbody>\n",
       "</table>\n",
       "<p>418 rows × 2 columns</p>\n",
       "</div>"
      ],
      "text/plain": [
       "     PassengerId  Survived\n",
       "0            892         0\n",
       "1            893         0\n",
       "2            894         0\n",
       "3            895         0\n",
       "4            896         0\n",
       "..           ...       ...\n",
       "413         1305         0\n",
       "414         1306         1\n",
       "415         1307         0\n",
       "416         1308         0\n",
       "417         1309         1\n",
       "\n",
       "[418 rows x 2 columns]"
      ]
     },
     "execution_count": 93,
     "metadata": {},
     "output_type": "execute_result"
    }
   ],
   "source": [
    "scoring_gbm_df"
   ]
  },
  {
   "cell_type": "code",
   "execution_count": 275,
   "metadata": {},
   "outputs": [],
   "source": [
    "\"\"\"  Implementing my neural network package  \"\"\"\n"
   ]
  },
  {
   "cell_type": "code",
   "execution_count": 59,
   "metadata": {},
   "outputs": [
    {
     "name": "stdout",
     "output_type": "stream",
     "text": [
      "Processing ./Library/Caches/pip/wheels/0a/be/07/ac2ff8333111e3a383aa6eb0bd99020d74dd3d008d451d3958/customdnn-1.0.9-py3-none-any.whl\n",
      "Requirement already satisfied: matplotlib in ./opt/anaconda3/envs/spyder/lib/python3.8/site-packages (from customdnn) (3.2.1)\n",
      "Requirement already satisfied: datetime in ./opt/anaconda3/envs/spyder/lib/python3.8/site-packages (from customdnn) (4.3)\n",
      "Requirement already satisfied: sklearn in ./opt/anaconda3/envs/spyder/lib/python3.8/site-packages (from customdnn) (0.0)\n",
      "Requirement already satisfied: numpy in ./opt/anaconda3/envs/spyder/lib/python3.8/site-packages (from customdnn) (1.18.1)\n",
      "Requirement already satisfied: pandas in ./opt/anaconda3/envs/spyder/lib/python3.8/site-packages (from customdnn) (1.0.3)\n",
      "Requirement already satisfied: kiwisolver>=1.0.1 in ./opt/anaconda3/envs/spyder/lib/python3.8/site-packages (from matplotlib->customdnn) (1.2.0)\n",
      "Requirement already satisfied: pyparsing!=2.0.4,!=2.1.2,!=2.1.6,>=2.0.1 in ./opt/anaconda3/envs/spyder/lib/python3.8/site-packages (from matplotlib->customdnn) (2.4.6)\n",
      "Requirement already satisfied: cycler>=0.10 in ./opt/anaconda3/envs/spyder/lib/python3.8/site-packages (from matplotlib->customdnn) (0.10.0)\n",
      "Requirement already satisfied: python-dateutil>=2.1 in ./opt/anaconda3/envs/spyder/lib/python3.8/site-packages (from matplotlib->customdnn) (2.8.1)\n",
      "Requirement already satisfied: pytz in ./opt/anaconda3/envs/spyder/lib/python3.8/site-packages (from datetime->customdnn) (2019.3)\n",
      "Requirement already satisfied: zope.interface in ./opt/anaconda3/envs/spyder/lib/python3.8/site-packages (from datetime->customdnn) (5.1.0)\n",
      "Requirement already satisfied: scikit-learn in ./opt/anaconda3/envs/spyder/lib/python3.8/site-packages (from sklearn->customdnn) (0.22.2.post1)\n",
      "Requirement already satisfied: six in ./opt/anaconda3/envs/spyder/lib/python3.8/site-packages (from cycler>=0.10->matplotlib->customdnn) (1.14.0)\n",
      "Requirement already satisfied: setuptools in ./opt/anaconda3/envs/spyder/lib/python3.8/site-packages (from zope.interface->datetime->customdnn) (46.1.3)\n",
      "Requirement already satisfied: joblib>=0.11 in ./opt/anaconda3/envs/spyder/lib/python3.8/site-packages (from scikit-learn->sklearn->customdnn) (0.14.1)\n",
      "Requirement already satisfied: scipy>=0.17.0 in ./opt/anaconda3/envs/spyder/lib/python3.8/site-packages (from scikit-learn->sklearn->customdnn) (1.4.1)\n",
      "Installing collected packages: customdnn\n",
      "Successfully installed customdnn-1.0.9\n",
      "Note: you may need to restart the kernel to use updated packages.\n"
     ]
    }
   ],
   "source": [
    "pip install customdnn"
   ]
  },
  {
   "cell_type": "code",
   "execution_count": 60,
   "metadata": {},
   "outputs": [],
   "source": [
    "from customdnn.network_train import SplitData,TrainingDeepNetwork\n",
    "from customdnn.network_predict import PredictDeepNetwork"
   ]
  },
  {
   "cell_type": "code",
   "execution_count": 61,
   "metadata": {},
   "outputs": [],
   "source": [
    "a = SplitData()"
   ]
  },
  {
   "cell_type": "code",
   "execution_count": 62,
   "metadata": {},
   "outputs": [],
   "source": [
    "x_train,x_test,y_train,y_test = a.split_train_test(x, y, 5)"
   ]
  },
  {
   "cell_type": "code",
   "execution_count": 63,
   "metadata": {},
   "outputs": [
    {
     "data": {
      "text/plain": [
       "array([[0, 1, 0, 0, 0, 0, 0, 0, 0, 0, 1, 0, 1, 0, 0, 0, 1, 0, 0, 1, 1, 1,\n",
       "        0, 1, 0, 0, 1, 1, 0, 0, 1, 1, 0, 1, 0, 0, 0, 1, 1, 0, 1, 0, 0, 1,\n",
       "        0]])"
      ]
     },
     "execution_count": 63,
     "metadata": {},
     "output_type": "execute_result"
    }
   ],
   "source": [
    "y_test"
   ]
  },
  {
   "cell_type": "code",
   "execution_count": 64,
   "metadata": {},
   "outputs": [],
   "source": [
    "param = {}\n",
    "b = TrainingDeepNetwork()"
   ]
  },
  {
   "cell_type": "code",
   "execution_count": 66,
   "metadata": {},
   "outputs": [
    {
     "name": "stdout",
     "output_type": "stream",
     "text": [
      "You have choosen the default network having   4  layers with  3  hidden layers.\n",
      "\n",
      "If you wish to update the network design, then press N to start over \n",
      "         #########  or  ######### \n",
      "Press Y to continue entering the number of neurons for each layer \n",
      "Y\n",
      "Enter number of neurons for hidden layer 1 :\n",
      "96\n",
      "Enter number of neurons for hidden layer 2 :\n",
      "22\n",
      "Enter number of neurons for hidden layer 3 :\n",
      "8\n",
      "Network Modeling started at  2020-05-05 14:35:20.538973 \n",
      "\n",
      "|\u001b[5;36m\u001b[5;47m\u001b[7m                    COMPLETE!                      \u001b[27m\u001b[0;0m\u001b[0;0m| 100%"
     ]
    },
    {
     "data": {
      "image/png": "[encoded data removed]",
      "text/plain": [
       "<Figure size 432x288 with 1 Axes>"
      ]
     },
     "metadata": {
      "needs_background": "light"
     },
     "output_type": "display_data"
    },
    {
     "name": "stdout",
     "output_type": "stream",
     "text": [
      "\n",
      "\n",
      "################ Cost Graph for training dataset has been plotted ! ################ \n",
      "\n"
     ]
    },
    {
     "data": {
      "image/png": "[encoded data removed]",
      "text/plain": [
       "<Figure size 432x288 with 1 Axes>"
      ]
     },
     "metadata": {
      "needs_background": "light"
     },
     "output_type": "display_data"
    },
    {
     "name": "stdout",
     "output_type": "stream",
     "text": [
      "################ Cost Graph per 100 iterations for training dataset has been plotted ! ################\n",
      "\n",
      " Training of the network completed at  2020-05-05 14:35:29.501522  \n",
      " Minimum cost function value in training is  0.32119811341157306\n"
     ]
    }
   ],
   "source": [
    "##Gradient Optimization Algorithm = GDM\n",
    "param = b.train_network(x_train, y_train,learning_rate=.01,beta1=.9,beta2=.999,\n",
    "                        batch_size=32,network_size=3,gradient=\"GDM\",epoch_num=500)"
   ]
  },
  {
   "cell_type": "code",
   "execution_count": 67,
   "metadata": {},
   "outputs": [],
   "source": [
    "c = PredictDeepNetwork()"
   ]
  },
  {
   "cell_type": "code",
   "execution_count": 69,
   "metadata": {},
   "outputs": [],
   "source": [
    "y_pred_prob = c.predict_proba(x_test, param,network_size=3)"
   ]
  },
  {
   "cell_type": "code",
   "execution_count": 70,
   "metadata": {},
   "outputs": [
    {
     "data": {
      "text/html": [
       "<div>\n",
       "<style scoped>\n",
       "    .dataframe tbody tr th:only-of-type {\n",
       "        vertical-align: middle;\n",
       "    }\n",
       "\n",
       "    .dataframe tbody tr th {\n",
       "        vertical-align: top;\n",
       "    }\n",
       "\n",
       "    .dataframe thead th {\n",
       "        text-align: right;\n",
       "    }\n",
       "</style>\n",
       "<table border=\"1\" class=\"dataframe\">\n",
       "  <thead>\n",
       "    <tr style=\"text-align: right;\">\n",
       "      <th></th>\n",
       "      <th>Pred_Prob</th>\n",
       "      <th>Predicted</th>\n",
       "    </tr>\n",
       "  </thead>\n",
       "  <tbody>\n",
       "    <tr>\n",
       "      <th>0</th>\n",
       "      <td>0.473802</td>\n",
       "      <td>0.0</td>\n",
       "    </tr>\n",
       "    <tr>\n",
       "      <th>1</th>\n",
       "      <td>0.448358</td>\n",
       "      <td>0.0</td>\n",
       "    </tr>\n",
       "    <tr>\n",
       "      <th>2</th>\n",
       "      <td>0.119960</td>\n",
       "      <td>0.0</td>\n",
       "    </tr>\n",
       "    <tr>\n",
       "      <th>3</th>\n",
       "      <td>0.119960</td>\n",
       "      <td>0.0</td>\n",
       "    </tr>\n",
       "    <tr>\n",
       "      <th>4</th>\n",
       "      <td>0.962507</td>\n",
       "      <td>1.0</td>\n",
       "    </tr>\n",
       "    <tr>\n",
       "      <th>5</th>\n",
       "      <td>0.119960</td>\n",
       "      <td>0.0</td>\n",
       "    </tr>\n",
       "    <tr>\n",
       "      <th>6</th>\n",
       "      <td>0.119960</td>\n",
       "      <td>0.0</td>\n",
       "    </tr>\n",
       "    <tr>\n",
       "      <th>7</th>\n",
       "      <td>0.802095</td>\n",
       "      <td>1.0</td>\n",
       "    </tr>\n",
       "    <tr>\n",
       "      <th>8</th>\n",
       "      <td>0.119960</td>\n",
       "      <td>0.0</td>\n",
       "    </tr>\n",
       "    <tr>\n",
       "      <th>9</th>\n",
       "      <td>0.119960</td>\n",
       "      <td>0.0</td>\n",
       "    </tr>\n",
       "    <tr>\n",
       "      <th>10</th>\n",
       "      <td>0.122309</td>\n",
       "      <td>0.0</td>\n",
       "    </tr>\n",
       "    <tr>\n",
       "      <th>11</th>\n",
       "      <td>0.999201</td>\n",
       "      <td>1.0</td>\n",
       "    </tr>\n",
       "    <tr>\n",
       "      <th>12</th>\n",
       "      <td>0.999908</td>\n",
       "      <td>1.0</td>\n",
       "    </tr>\n",
       "    <tr>\n",
       "      <th>13</th>\n",
       "      <td>0.121705</td>\n",
       "      <td>0.0</td>\n",
       "    </tr>\n",
       "    <tr>\n",
       "      <th>14</th>\n",
       "      <td>0.119960</td>\n",
       "      <td>0.0</td>\n",
       "    </tr>\n",
       "    <tr>\n",
       "      <th>15</th>\n",
       "      <td>0.119960</td>\n",
       "      <td>0.0</td>\n",
       "    </tr>\n",
       "    <tr>\n",
       "      <th>16</th>\n",
       "      <td>0.958723</td>\n",
       "      <td>1.0</td>\n",
       "    </tr>\n",
       "    <tr>\n",
       "      <th>17</th>\n",
       "      <td>0.119960</td>\n",
       "      <td>0.0</td>\n",
       "    </tr>\n",
       "    <tr>\n",
       "      <th>18</th>\n",
       "      <td>0.119960</td>\n",
       "      <td>0.0</td>\n",
       "    </tr>\n",
       "    <tr>\n",
       "      <th>19</th>\n",
       "      <td>0.999998</td>\n",
       "      <td>1.0</td>\n",
       "    </tr>\n",
       "    <tr>\n",
       "      <th>20</th>\n",
       "      <td>0.266079</td>\n",
       "      <td>0.0</td>\n",
       "    </tr>\n",
       "    <tr>\n",
       "      <th>21</th>\n",
       "      <td>0.120793</td>\n",
       "      <td>0.0</td>\n",
       "    </tr>\n",
       "    <tr>\n",
       "      <th>22</th>\n",
       "      <td>0.132904</td>\n",
       "      <td>0.0</td>\n",
       "    </tr>\n",
       "    <tr>\n",
       "      <th>23</th>\n",
       "      <td>0.999973</td>\n",
       "      <td>1.0</td>\n",
       "    </tr>\n",
       "    <tr>\n",
       "      <th>24</th>\n",
       "      <td>0.119960</td>\n",
       "      <td>0.0</td>\n",
       "    </tr>\n",
       "    <tr>\n",
       "      <th>25</th>\n",
       "      <td>0.119960</td>\n",
       "      <td>0.0</td>\n",
       "    </tr>\n",
       "    <tr>\n",
       "      <th>26</th>\n",
       "      <td>0.999900</td>\n",
       "      <td>1.0</td>\n",
       "    </tr>\n",
       "    <tr>\n",
       "      <th>27</th>\n",
       "      <td>0.119960</td>\n",
       "      <td>0.0</td>\n",
       "    </tr>\n",
       "    <tr>\n",
       "      <th>28</th>\n",
       "      <td>0.119960</td>\n",
       "      <td>0.0</td>\n",
       "    </tr>\n",
       "    <tr>\n",
       "      <th>29</th>\n",
       "      <td>0.976491</td>\n",
       "      <td>1.0</td>\n",
       "    </tr>\n",
       "    <tr>\n",
       "      <th>30</th>\n",
       "      <td>1.000000</td>\n",
       "      <td>1.0</td>\n",
       "    </tr>\n",
       "    <tr>\n",
       "      <th>31</th>\n",
       "      <td>0.279954</td>\n",
       "      <td>0.0</td>\n",
       "    </tr>\n",
       "    <tr>\n",
       "      <th>32</th>\n",
       "      <td>0.158517</td>\n",
       "      <td>0.0</td>\n",
       "    </tr>\n",
       "    <tr>\n",
       "      <th>33</th>\n",
       "      <td>0.999342</td>\n",
       "      <td>1.0</td>\n",
       "    </tr>\n",
       "    <tr>\n",
       "      <th>34</th>\n",
       "      <td>0.119960</td>\n",
       "      <td>0.0</td>\n",
       "    </tr>\n",
       "    <tr>\n",
       "      <th>35</th>\n",
       "      <td>0.119960</td>\n",
       "      <td>0.0</td>\n",
       "    </tr>\n",
       "    <tr>\n",
       "      <th>36</th>\n",
       "      <td>0.490797</td>\n",
       "      <td>0.0</td>\n",
       "    </tr>\n",
       "    <tr>\n",
       "      <th>37</th>\n",
       "      <td>0.982289</td>\n",
       "      <td>1.0</td>\n",
       "    </tr>\n",
       "    <tr>\n",
       "      <th>38</th>\n",
       "      <td>0.119960</td>\n",
       "      <td>0.0</td>\n",
       "    </tr>\n",
       "    <tr>\n",
       "      <th>39</th>\n",
       "      <td>0.264074</td>\n",
       "      <td>0.0</td>\n",
       "    </tr>\n",
       "    <tr>\n",
       "      <th>40</th>\n",
       "      <td>0.999982</td>\n",
       "      <td>1.0</td>\n",
       "    </tr>\n",
       "    <tr>\n",
       "      <th>41</th>\n",
       "      <td>0.121206</td>\n",
       "      <td>0.0</td>\n",
       "    </tr>\n",
       "    <tr>\n",
       "      <th>42</th>\n",
       "      <td>0.119960</td>\n",
       "      <td>0.0</td>\n",
       "    </tr>\n",
       "    <tr>\n",
       "      <th>43</th>\n",
       "      <td>0.961646</td>\n",
       "      <td>1.0</td>\n",
       "    </tr>\n",
       "    <tr>\n",
       "      <th>44</th>\n",
       "      <td>0.447137</td>\n",
       "      <td>0.0</td>\n",
       "    </tr>\n",
       "  </tbody>\n",
       "</table>\n",
       "</div>"
      ],
      "text/plain": [
       "    Pred_Prob  Predicted\n",
       "0    0.473802        0.0\n",
       "1    0.448358        0.0\n",
       "2    0.119960        0.0\n",
       "3    0.119960        0.0\n",
       "4    0.962507        1.0\n",
       "5    0.119960        0.0\n",
       "6    0.119960        0.0\n",
       "7    0.802095        1.0\n",
       "8    0.119960        0.0\n",
       "9    0.119960        0.0\n",
       "10   0.122309        0.0\n",
       "11   0.999201        1.0\n",
       "12   0.999908        1.0\n",
       "13   0.121705        0.0\n",
       "14   0.119960        0.0\n",
       "15   0.119960        0.0\n",
       "16   0.958723        1.0\n",
       "17   0.119960        0.0\n",
       "18   0.119960        0.0\n",
       "19   0.999998        1.0\n",
       "20   0.266079        0.0\n",
       "21   0.120793        0.0\n",
       "22   0.132904        0.0\n",
       "23   0.999973        1.0\n",
       "24   0.119960        0.0\n",
       "25   0.119960        0.0\n",
       "26   0.999900        1.0\n",
       "27   0.119960        0.0\n",
       "28   0.119960        0.0\n",
       "29   0.976491        1.0\n",
       "30   1.000000        1.0\n",
       "31   0.279954        0.0\n",
       "32   0.158517        0.0\n",
       "33   0.999342        1.0\n",
       "34   0.119960        0.0\n",
       "35   0.119960        0.0\n",
       "36   0.490797        0.0\n",
       "37   0.982289        1.0\n",
       "38   0.119960        0.0\n",
       "39   0.264074        0.0\n",
       "40   0.999982        1.0\n",
       "41   0.121206        0.0\n",
       "42   0.119960        0.0\n",
       "43   0.961646        1.0\n",
       "44   0.447137        0.0"
      ]
     },
     "execution_count": 70,
     "metadata": {},
     "output_type": "execute_result"
    }
   ],
   "source": [
    "y_pred_prob"
   ]
  },
  {
   "cell_type": "code",
   "execution_count": 344,
   "metadata": {},
   "outputs": [],
   "source": [
    "y_pred_prob_df = pd.DataFrame(y_pred_prob.ravel(),columns=['Pred_Prob'])"
   ]
  },
  {
   "cell_type": "code",
   "execution_count": 345,
   "metadata": {},
   "outputs": [],
   "source": [
    "y_pred_prob_df.loc[y_pred_prob_df.Pred_Prob >  .5,'Pred']=1\n",
    "y_pred_prob_df.loc[y_pred_prob_df.Pred_Prob <= .5,'Pred']=0"
   ]
  },
  {
   "cell_type": "code",
   "execution_count": 346,
   "metadata": {},
   "outputs": [],
   "source": [
    "y_test_df = pd.DataFrame(y_test.ravel())"
   ]
  },
  {
   "cell_type": "code",
   "execution_count": 347,
   "metadata": {},
   "outputs": [
    {
     "data": {
      "text/plain": [
       "0.7384615384615385"
      ]
     },
     "execution_count": 347,
     "metadata": {},
     "output_type": "execute_result"
    }
   ],
   "source": [
    "## accuracy on 5% validation data\n",
    "accuracy_score(y_test_df,y_pred_prob_df['Pred'])"
   ]
  },
  {
   "cell_type": "code",
   "execution_count": 380,
   "metadata": {},
   "outputs": [],
   "source": [
    "param = {}\n",
    "b1 = TrainingDeepNetwork()"
   ]
  },
  {
   "cell_type": "code",
   "execution_count": 382,
   "metadata": {},
   "outputs": [
    {
     "name": "stdout",
     "output_type": "stream",
     "text": [
      "You have choosen the default network having   4  layers with  3  hidden layers.\n",
      "\n",
      "If you wish to update the network design, then press N to start over \n",
      "         #########  or  ######### \n",
      "Press Y to continue entering the number of neurons for each layer \n",
      "Y\n",
      "Enter number of neurons for hidden layer 1 :\n",
      "96\n",
      "Enter number of neurons for hidden layer 2 :\n",
      "22\n",
      "Enter number of neurons for hidden layer 3 :\n",
      "8\n",
      "Network Modeling started at  2020-05-04 01:36:15.123700 \n",
      "\n",
      "|\u001b[5;36m\u001b[5;47m\u001b[7m                    COMPLETE!                      \u001b[27m\u001b[0;0m\u001b[0;0m| 100%"
     ]
    },
    {
     "data": {
      "image/png": "[encoded data removed]",
      "text/plain": [
       "<Figure size 432x288 with 1 Axes>"
      ]
     },
     "metadata": {
      "needs_background": "light"
     },
     "output_type": "display_data"
    },
    {
     "name": "stdout",
     "output_type": "stream",
     "text": [
      "\n",
      "\n",
      "################ Cost Graph for training dataset has been plotted ! ################ \n",
      "\n"
     ]
    },
    {
     "data": {
      "image/png": "[encoded data removed]",
      "text/plain": [
       "<Figure size 432x288 with 1 Axes>"
      ]
     },
     "metadata": {
      "needs_background": "light"
     },
     "output_type": "display_data"
    },
    {
     "name": "stdout",
     "output_type": "stream",
     "text": [
      "################ Cost Graph per 100 iterations for training dataset has been plotted ! ################\n",
      "\n",
      " Training of the network completed at  2020-05-04 01:36:18.570883  \n",
      " Minimum cost function value in training is  0.5233141312260958\n"
     ]
    }
   ],
   "source": [
    "##Gradient Optimization Algorithm = Adam\n",
    "param = b1.train_network(x_train, y_train,learning_rate=.01,beta1=.9,beta2=.999,\n",
    "                        batch_size=32,network_size=3,gradient=\"Adam\",epoch_num=100)"
   ]
  },
  {
   "cell_type": "code",
   "execution_count": 383,
   "metadata": {},
   "outputs": [],
   "source": [
    "c = PredictDeepNetwork()"
   ]
  },
  {
   "cell_type": "code",
   "execution_count": 384,
   "metadata": {},
   "outputs": [],
   "source": [
    "y_pred_prob = c.predict_proba(x_test, y_test, param,network_size=3)"
   ]
  },
  {
   "cell_type": "code",
   "execution_count": 385,
   "metadata": {},
   "outputs": [],
   "source": [
    "y_pred_prob_df = pd.DataFrame(y_pred_prob.ravel(),columns=['Pred_Prob'])"
   ]
  },
  {
   "cell_type": "code",
   "execution_count": 386,
   "metadata": {},
   "outputs": [],
   "source": [
    "y_pred_prob_df.loc[y_pred_prob_df.Pred_Prob >  .5,'Pred']=1\n",
    "y_pred_prob_df.loc[y_pred_prob_df.Pred_Prob <= .5,'Pred']=0"
   ]
  },
  {
   "cell_type": "code",
   "execution_count": 389,
   "metadata": {},
   "outputs": [
    {
     "data": {
      "text/html": [
       "<div>\n",
       "<style scoped>\n",
       "    .dataframe tbody tr th:only-of-type {\n",
       "        vertical-align: middle;\n",
       "    }\n",
       "\n",
       "    .dataframe tbody tr th {\n",
       "        vertical-align: top;\n",
       "    }\n",
       "\n",
       "    .dataframe thead th {\n",
       "        text-align: right;\n",
       "    }\n",
       "</style>\n",
       "<table border=\"1\" class=\"dataframe\">\n",
       "  <thead>\n",
       "    <tr style=\"text-align: right;\">\n",
       "      <th></th>\n",
       "      <th>Pred_Prob</th>\n",
       "      <th>Pred</th>\n",
       "    </tr>\n",
       "  </thead>\n",
       "  <tbody>\n",
       "    <tr>\n",
       "      <th>0</th>\n",
       "      <td>0.119370</td>\n",
       "      <td>0.0</td>\n",
       "    </tr>\n",
       "    <tr>\n",
       "      <th>1</th>\n",
       "      <td>0.119370</td>\n",
       "      <td>0.0</td>\n",
       "    </tr>\n",
       "    <tr>\n",
       "      <th>2</th>\n",
       "      <td>0.119370</td>\n",
       "      <td>0.0</td>\n",
       "    </tr>\n",
       "    <tr>\n",
       "      <th>3</th>\n",
       "      <td>0.119370</td>\n",
       "      <td>0.0</td>\n",
       "    </tr>\n",
       "    <tr>\n",
       "      <th>4</th>\n",
       "      <td>0.119370</td>\n",
       "      <td>0.0</td>\n",
       "    </tr>\n",
       "    <tr>\n",
       "      <th>...</th>\n",
       "      <td>...</td>\n",
       "      <td>...</td>\n",
       "    </tr>\n",
       "    <tr>\n",
       "      <th>60</th>\n",
       "      <td>0.166111</td>\n",
       "      <td>0.0</td>\n",
       "    </tr>\n",
       "    <tr>\n",
       "      <th>61</th>\n",
       "      <td>0.999999</td>\n",
       "      <td>1.0</td>\n",
       "    </tr>\n",
       "    <tr>\n",
       "      <th>62</th>\n",
       "      <td>1.000000</td>\n",
       "      <td>1.0</td>\n",
       "    </tr>\n",
       "    <tr>\n",
       "      <th>63</th>\n",
       "      <td>0.119370</td>\n",
       "      <td>0.0</td>\n",
       "    </tr>\n",
       "    <tr>\n",
       "      <th>64</th>\n",
       "      <td>0.127286</td>\n",
       "      <td>0.0</td>\n",
       "    </tr>\n",
       "  </tbody>\n",
       "</table>\n",
       "<p>65 rows × 2 columns</p>\n",
       "</div>"
      ],
      "text/plain": [
       "    Pred_Prob  Pred\n",
       "0    0.119370   0.0\n",
       "1    0.119370   0.0\n",
       "2    0.119370   0.0\n",
       "3    0.119370   0.0\n",
       "4    0.119370   0.0\n",
       "..        ...   ...\n",
       "60   0.166111   0.0\n",
       "61   0.999999   1.0\n",
       "62   1.000000   1.0\n",
       "63   0.119370   0.0\n",
       "64   0.127286   0.0\n",
       "\n",
       "[65 rows x 2 columns]"
      ]
     },
     "execution_count": 389,
     "metadata": {},
     "output_type": "execute_result"
    }
   ],
   "source": [
    "y_pred_prob_df"
   ]
  },
  {
   "cell_type": "code",
   "execution_count": 387,
   "metadata": {},
   "outputs": [],
   "source": [
    "y_test_df = pd.DataFrame(y_test.ravel())"
   ]
  },
  {
   "cell_type": "code",
   "execution_count": 388,
   "metadata": {},
   "outputs": [
    {
     "data": {
      "text/plain": [
       "0.8307692307692308"
      ]
     },
     "execution_count": 388,
     "metadata": {},
     "output_type": "execute_result"
    }
   ],
   "source": [
    "## accuracy on 5% validation data\n",
    "accuracy_score(y_test_df,y_pred_prob_df['Pred'])"
   ]
  },
  {
   "cell_type": "code",
   "execution_count": null,
   "metadata": {},
   "outputs": [],
   "source": []
  }
 ],
 "metadata": {
  "kernelspec": {
   "display_name": "Python 3",
   "language": "python",
   "name": "python3"
  },
  "language_info": {
   "codemirror_mode": {
    "name": "ipython",
    "version": 3
   },
   "file_extension": ".py",
   "mimetype": "text/x-python",
   "name": "python",
   "nbconvert_exporter": "python",
   "pygments_lexer": "ipython3",
   "version": "3.6.12"
  }
 },
 "nbformat": 4,
 "nbformat_minor": 4
}
